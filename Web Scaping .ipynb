{
 "cells": [
  {
   "cell_type": "markdown",
   "id": "ce4c1df8",
   "metadata": {},
   "source": [
    "# Web Scraping Example 1"
   ]
  },
  {
   "cell_type": "markdown",
   "id": "8a18c4a6",
   "metadata": {},
   "source": [
    "#### Goal:  Scrape title of every book with a 2 star rating from toscrape example site"
   ]
  },
  {
   "cell_type": "code",
   "execution_count": 1,
   "id": "3458a464",
   "metadata": {},
   "outputs": [],
   "source": [
    "import requests,bs4,lxml\n",
    "base_url=\"http://books.toscrape.com/catalogue/page-{}.html\""
   ]
  },
  {
   "cell_type": "code",
   "execution_count": 2,
   "id": "a8019e98",
   "metadata": {},
   "outputs": [
    {
     "data": {
      "text/plain": [
       "<article class=\"product_pod\">\n",
       "<div class=\"image_container\">\n",
       "<a href=\"a-light-in-the-attic_1000/index.html\"><img alt=\"A Light in the Attic\" class=\"thumbnail\" src=\"../media/cache/2c/da/2cdad67c44b002e7ead0cc35693c0e8b.jpg\"/></a>\n",
       "</div>\n",
       "<p class=\"star-rating Three\">\n",
       "<i class=\"icon-star\"></i>\n",
       "<i class=\"icon-star\"></i>\n",
       "<i class=\"icon-star\"></i>\n",
       "<i class=\"icon-star\"></i>\n",
       "<i class=\"icon-star\"></i>\n",
       "</p>\n",
       "<h3><a href=\"a-light-in-the-attic_1000/index.html\" title=\"A Light in the Attic\">A Light in the ...</a></h3>\n",
       "<div class=\"product_price\">\n",
       "<p class=\"price_color\">Â£51.77</p>\n",
       "<p class=\"instock availability\">\n",
       "<i class=\"icon-ok\"></i>\n",
       "    \n",
       "        In stock\n",
       "    \n",
       "</p>\n",
       "<form>\n",
       "<button class=\"btn btn-primary btn-block\" data-loading-text=\"Adding...\" type=\"submit\">Add to basket</button>\n",
       "</form>\n",
       "</div>\n",
       "</article>"
      ]
     },
     "execution_count": 2,
     "metadata": {},
     "output_type": "execute_result"
    }
   ],
   "source": [
    "url=base_url.format(1)\n",
    "res=requests.get(url)\n",
    "soup=bs4.BeautifulSoup(res.text,'lxml')\n",
    "prod=soup.select(\".product_pod\")\n",
    "prod[0]"
   ]
  },
  {
   "cell_type": "code",
   "execution_count": 5,
   "id": "75975d96",
   "metadata": {},
   "outputs": [
    {
     "data": {
      "text/plain": [
       "[<p class=\"star-rating Three\">\n",
       " <i class=\"icon-star\"></i>\n",
       " <i class=\"icon-star\"></i>\n",
       " <i class=\"icon-star\"></i>\n",
       " <i class=\"icon-star\"></i>\n",
       " <i class=\"icon-star\"></i>\n",
       " </p>]"
      ]
     },
     "execution_count": 5,
     "metadata": {},
     "output_type": "execute_result"
    }
   ],
   "source": [
    "prod[0].select(\".star-rating.Three\")"
   ]
  },
  {
   "cell_type": "code",
   "execution_count": 4,
   "id": "28e12f0b",
   "metadata": {},
   "outputs": [
    {
     "data": {
      "text/plain": [
       "False"
      ]
     },
     "execution_count": 4,
     "metadata": {},
     "output_type": "execute_result"
    }
   ],
   "source": [
    "[]==prod[0].select(\".star-rating.Three\")"
   ]
  },
  {
   "cell_type": "code",
   "execution_count": 6,
   "id": "e13c2b43",
   "metadata": {},
   "outputs": [
    {
     "data": {
      "text/plain": [
       "'A Light in the Attic'"
      ]
     },
     "execution_count": 6,
     "metadata": {},
     "output_type": "execute_result"
    }
   ],
   "source": [
    "prod[0].select('a')[1]['title']\n",
    "#a is tag, 1 is choice in array of a tag"
   ]
  },
  {
   "cell_type": "code",
   "execution_count": 48,
   "id": "33b3d46d",
   "metadata": {},
   "outputs": [],
   "source": [
    "t=[]\n",
    "n=2           #No. of pages upto which we check\n",
    "for i in range(n):\n",
    "    url=base_url.format(i+1)       #choosing page url\n",
    "    res=requests.get(url)\n",
    "    soup=bs4.BeautifulSoup(res.text,'lxml')\n",
    "    prod=soup.select(\".product_pod\")  #choosing class that has stars and titles\n",
    "    #Every page product_pod class will be in prod list\n",
    "    for j in range(len(prod)): \n",
    "        p=prod[j]\n",
    "        #Checking is stars are equal to 2 or not if stars 2 return empty list\n",
    "        if(p.select(\".star-rating.Two\")!=[]):\n",
    "            #Appending Titles in an empty list\n",
    "            t.append(p.select('a')[1]['title']) "
   ]
  },
  {
   "cell_type": "code",
   "execution_count": 49,
   "id": "1e9926b1",
   "metadata": {},
   "outputs": [
    {
     "data": {
      "text/plain": [
       "['Starving Hearts (Triangular Trade Trilogy, #1)',\n",
       " 'Libertarianism for Beginners',\n",
       " \"It's Only the Himalayas\",\n",
       " 'How Music Works',\n",
       " 'Maude (1883-1993):She Grew Up with the country',\n",
       " \"You can't bury them all: Poems\"]"
      ]
     },
     "execution_count": 49,
     "metadata": {},
     "output_type": "execute_result"
    }
   ],
   "source": [
    "t"
   ]
  },
  {
   "cell_type": "markdown",
   "id": "f725b539",
   "metadata": {},
   "source": [
    "# Web Scraping Example 2"
   ]
  },
  {
   "cell_type": "markdown",
   "id": "10b03584",
   "metadata": {},
   "source": [
    "#### Goal:  Scrape title of every redmi phone note 8 with a 4.4 rating from flipkart"
   ]
  },
  {
   "cell_type": "code",
   "execution_count": 74,
   "id": "9c19fea8",
   "metadata": {},
   "outputs": [],
   "source": [
    "import requests,bs4,lxml\n",
    "base_url=\"https://www.flipkart.com/search?q=realme+8&as=on&as-show=on&otracker=AS_Query_OrganicAutoSuggest_4_2_na_na_na&otracker1=AS_Query_OrganicAutoSuggest_4_2_na_na_na&as-pos=4&as-type=RECENT&suggestionId=realme+8&requestId=d6690e7a-75ff-4b4e-b458-f3a31a86af95&as-searchtext=re&page={}\""
   ]
  },
  {
   "cell_type": "code",
   "execution_count": 77,
   "id": "293b5549",
   "metadata": {},
   "outputs": [
    {
     "name": "stdout",
     "output_type": "stream",
     "text": [
      "Enter what rating you want to search :4.3\n"
     ]
    }
   ],
   "source": [
    "t=[]\n",
    "n=5           #No. of pages upto which we check\n",
    "rate=(input(\"Enter what rating you want to search :\")) #Enter number 4.3 for test run\n",
    "for i in range(n):\n",
    "    url=base_url.format(i+1)       #choosing page url\n",
    "    res=requests.get(url)\n",
    "    soup=bs4.BeautifulSoup(res.text,'lxml')\n",
    "    prod=soup.select(\".col.col-7-12\")  #choosing class that has stars and titles\n",
    "    for j in range (len(prod)):\n",
    "        p=prod[j].select('.gUuXy-')[0].select('._3LWZlK')[0].text\n",
    "        if(p==rate):\n",
    "            t.append(prod[i].text)"
   ]
  },
  {
   "cell_type": "code",
   "execution_count": 78,
   "id": "1a851a46",
   "metadata": {},
   "outputs": [
    {
     "data": {
      "text/plain": [
       "['realme 8 (Cyber Silver, 128 GB)4.338,819 Ratings\\xa0&\\xa03,571 Reviews6 GB RAM | 128 GB ROM | Expandable Upto 256 GB16.26 cm (6.4 inch) Full HD+ Display64MP + 8MP + 2MP + 2MP | 16MP Front Camera5000 mAh BatteryMediaTek Helio G95 ProcessorSuper AMOLED Display1 Year Warranty for Mobile and 6 Months for Accessories',\n",
       " 'realme 8 (Cyber Silver, 128 GB)4.338,819 Ratings\\xa0&\\xa03,571 Reviews6 GB RAM | 128 GB ROM | Expandable Upto 256 GB16.26 cm (6.4 inch) Full HD+ Display64MP + 8MP + 2MP + 2MP | 16MP Front Camera5000 mAh BatteryMediaTek Helio G95 ProcessorSuper AMOLED Display1 Year Warranty for Mobile and 6 Months for Accessories',\n",
       " 'realme 8 (Cyber Silver, 128 GB)4.338,819 Ratings\\xa0&\\xa03,571 Reviews6 GB RAM | 128 GB ROM | Expandable Upto 256 GB16.26 cm (6.4 inch) Full HD+ Display64MP + 8MP + 2MP + 2MP | 16MP Front Camera5000 mAh BatteryMediaTek Helio G95 ProcessorSuper AMOLED Display1 Year Warranty for Mobile and 6 Months for Accessories',\n",
       " 'realme 8 (Cyber Silver, 128 GB)4.338,819 Ratings\\xa0&\\xa03,571 Reviews6 GB RAM | 128 GB ROM | Expandable Upto 256 GB16.26 cm (6.4 inch) Full HD+ Display64MP + 8MP + 2MP + 2MP | 16MP Front Camera5000 mAh BatteryMediaTek Helio G95 ProcessorSuper AMOLED Display1 Year Warranty for Mobile and 6 Months for Accessories',\n",
       " 'realme 8 (Cyber Silver, 128 GB)4.338,819 Ratings\\xa0&\\xa03,571 Reviews6 GB RAM | 128 GB ROM | Expandable Upto 256 GB16.26 cm (6.4 inch) Full HD+ Display64MP + 8MP + 2MP + 2MP | 16MP Front Camera5000 mAh BatteryMediaTek Helio G95 ProcessorSuper AMOLED Display1 Year Warranty for Mobile and 6 Months for Accessories',\n",
       " 'realme 8 (Cyber Silver, 128 GB)4.338,819 Ratings\\xa0&\\xa03,571 Reviews6 GB RAM | 128 GB ROM | Expandable Upto 256 GB16.26 cm (6.4 inch) Full HD+ Display64MP + 8MP + 2MP + 2MP | 16MP Front Camera5000 mAh BatteryMediaTek Helio G95 ProcessorSuper AMOLED Display1 Year Warranty for Mobile and 6 Months for Accessories',\n",
       " 'realme 8 (Cyber Silver, 128 GB)4.338,819 Ratings\\xa0&\\xa03,571 Reviews6 GB RAM | 128 GB ROM | Expandable Upto 256 GB16.26 cm (6.4 inch) Full HD+ Display64MP + 8MP + 2MP + 2MP | 16MP Front Camera5000 mAh BatteryMediaTek Helio G95 ProcessorSuper AMOLED Display1 Year Warranty for Mobile and 6 Months for Accessories',\n",
       " 'realme 8 (Cyber Silver, 128 GB)4.338,819 Ratings\\xa0&\\xa03,571 Reviews6 GB RAM | 128 GB ROM | Expandable Upto 256 GB16.26 cm (6.4 inch) Full HD+ Display64MP + 8MP + 2MP + 2MP | 16MP Front Camera5000 mAh BatteryMediaTek Helio G95 ProcessorSuper AMOLED Display1 Year Warranty for Mobile and 6 Months for Accessories',\n",
       " 'realme 8 (Cyber Silver, 128 GB)4.338,819 Ratings\\xa0&\\xa03,571 Reviews6 GB RAM | 128 GB ROM | Expandable Upto 256 GB16.26 cm (6.4 inch) Full HD+ Display64MP + 8MP + 2MP + 2MP | 16MP Front Camera5000 mAh BatteryMediaTek Helio G95 ProcessorSuper AMOLED Display1 Year Warranty for Mobile and 6 Months for Accessories',\n",
       " 'realme 8 (Cyber Silver, 128 GB)4.338,819 Ratings\\xa0&\\xa03,571 Reviews6 GB RAM | 128 GB ROM | Expandable Upto 256 GB16.26 cm (6.4 inch) Full HD+ Display64MP + 8MP + 2MP + 2MP | 16MP Front Camera5000 mAh BatteryMediaTek Helio G95 ProcessorSuper AMOLED Display1 Year Warranty for Mobile and 6 Months for Accessories',\n",
       " 'realme 8 (Cyber Silver, 128 GB)4.338,819 Ratings\\xa0&\\xa03,571 Reviews6 GB RAM | 128 GB ROM | Expandable Upto 256 GB16.26 cm (6.4 inch) Full HD+ Display64MP + 8MP + 2MP + 2MP | 16MP Front Camera5000 mAh BatteryMediaTek Helio G95 ProcessorSuper AMOLED Display1 Year Warranty for Mobile and 6 Months for Accessories',\n",
       " 'realme 8 (Cyber Silver, 128 GB)4.338,819 Ratings\\xa0&\\xa03,571 Reviews6 GB RAM | 128 GB ROM | Expandable Upto 256 GB16.26 cm (6.4 inch) Full HD+ Display64MP + 8MP + 2MP + 2MP | 16MP Front Camera5000 mAh BatteryMediaTek Helio G95 ProcessorSuper AMOLED Display1 Year Warranty for Mobile and 6 Months for Accessories',\n",
       " 'realme 8 (Cyber Silver, 128 GB)4.338,819 Ratings\\xa0&\\xa03,571 Reviews6 GB RAM | 128 GB ROM | Expandable Upto 256 GB16.26 cm (6.4 inch) Full HD+ Display64MP + 8MP + 2MP + 2MP | 16MP Front Camera5000 mAh BatteryMediaTek Helio G95 ProcessorSuper AMOLED Display1 Year Warranty for Mobile and 6 Months for Accessories',\n",
       " 'realme C11 2021 (Cool Blue, 32 GB)4.313,250 Ratings\\xa0&\\xa0725 Reviews2 GB RAM | 32 GB ROM | Expandable Upto 256 GB16.51 cm (6.5 inch) HD+ Display8MP Rear Camera | 5MP Front Camera5000 mAh BatteryOcta-core Processor1 Year Warranty for Mobile and 6 Months for Accessories',\n",
       " 'realme C11 2021 (Cool Blue, 32 GB)4.313,250 Ratings\\xa0&\\xa0725 Reviews2 GB RAM | 32 GB ROM | Expandable Upto 256 GB16.51 cm (6.5 inch) HD+ Display8MP Rear Camera | 5MP Front Camera5000 mAh BatteryOcta-core Processor1 Year Warranty for Mobile and 6 Months for Accessories',\n",
       " 'realme C11 2021 (Cool Blue, 32 GB)4.313,250 Ratings\\xa0&\\xa0725 Reviews2 GB RAM | 32 GB ROM | Expandable Upto 256 GB16.51 cm (6.5 inch) HD+ Display8MP Rear Camera | 5MP Front Camera5000 mAh BatteryOcta-core Processor1 Year Warranty for Mobile and 6 Months for Accessories',\n",
       " 'realme C11 2021 (Cool Blue, 32 GB)4.313,250 Ratings\\xa0&\\xa0725 Reviews2 GB RAM | 32 GB ROM | Expandable Upto 256 GB16.51 cm (6.5 inch) HD+ Display8MP Rear Camera | 5MP Front Camera5000 mAh BatteryOcta-core Processor1 Year Warranty for Mobile and 6 Months for Accessories',\n",
       " 'realme C11 2021 (Cool Blue, 32 GB)4.313,250 Ratings\\xa0&\\xa0725 Reviews2 GB RAM | 32 GB ROM | Expandable Upto 256 GB16.51 cm (6.5 inch) HD+ Display8MP Rear Camera | 5MP Front Camera5000 mAh BatteryOcta-core Processor1 Year Warranty for Mobile and 6 Months for Accessories',\n",
       " 'realme C11 2021 (Cool Blue, 32 GB)4.313,250 Ratings\\xa0&\\xa0725 Reviews2 GB RAM | 32 GB ROM | Expandable Upto 256 GB16.51 cm (6.5 inch) HD+ Display8MP Rear Camera | 5MP Front Camera5000 mAh BatteryOcta-core Processor1 Year Warranty for Mobile and 6 Months for Accessories',\n",
       " 'realme C11 2021 (Cool Blue, 32 GB)4.313,250 Ratings\\xa0&\\xa0725 Reviews2 GB RAM | 32 GB ROM | Expandable Upto 256 GB16.51 cm (6.5 inch) HD+ Display8MP Rear Camera | 5MP Front Camera5000 mAh BatteryOcta-core Processor1 Year Warranty for Mobile and 6 Months for Accessories',\n",
       " 'realme C11 2021 (Cool Blue, 32 GB)4.313,250 Ratings\\xa0&\\xa0725 Reviews2 GB RAM | 32 GB ROM | Expandable Upto 256 GB16.51 cm (6.5 inch) HD+ Display8MP Rear Camera | 5MP Front Camera5000 mAh BatteryOcta-core Processor1 Year Warranty for Mobile and 6 Months for Accessories',\n",
       " 'realme C11 2021 (Cool Blue, 32 GB)4.313,250 Ratings\\xa0&\\xa0725 Reviews2 GB RAM | 32 GB ROM | Expandable Upto 256 GB16.51 cm (6.5 inch) HD+ Display8MP Rear Camera | 5MP Front Camera5000 mAh BatteryOcta-core Processor1 Year Warranty for Mobile and 6 Months for Accessories',\n",
       " 'realme C11 2021 (Cool Blue, 32 GB)4.313,250 Ratings\\xa0&\\xa0725 Reviews2 GB RAM | 32 GB ROM | Expandable Upto 256 GB16.51 cm (6.5 inch) HD+ Display8MP Rear Camera | 5MP Front Camera5000 mAh BatteryOcta-core Processor1 Year Warranty for Mobile and 6 Months for Accessories',\n",
       " 'realme C11 2021 (Cool Blue, 32 GB)4.313,250 Ratings\\xa0&\\xa0725 Reviews2 GB RAM | 32 GB ROM | Expandable Upto 256 GB16.51 cm (6.5 inch) HD+ Display8MP Rear Camera | 5MP Front Camera5000 mAh BatteryOcta-core Processor1 Year Warranty for Mobile and 6 Months for Accessories',\n",
       " 'realme C11 2021 (Cool Blue, 32 GB)4.313,250 Ratings\\xa0&\\xa0725 Reviews2 GB RAM | 32 GB ROM | Expandable Upto 256 GB16.51 cm (6.5 inch) HD+ Display8MP Rear Camera | 5MP Front Camera5000 mAh BatteryOcta-core Processor1 Year Warranty for Mobile and 6 Months for Accessories',\n",
       " 'realme C11 2021 (Cool Blue, 32 GB)4.313,250 Ratings\\xa0&\\xa0725 Reviews2 GB RAM | 32 GB ROM | Expandable Upto 256 GB16.51 cm (6.5 inch) HD+ Display8MP Rear Camera | 5MP Front Camera5000 mAh BatteryOcta-core Processor1 Year Warranty for Mobile and 6 Months for Accessories',\n",
       " 'realme C11 2021 (Cool Blue, 32 GB)4.313,250 Ratings\\xa0&\\xa0725 Reviews2 GB RAM | 32 GB ROM | Expandable Upto 256 GB16.51 cm (6.5 inch) HD+ Display8MP Rear Camera | 5MP Front Camera5000 mAh BatteryOcta-core Processor1 Year Warranty for Mobile and 6 Months for Accessories',\n",
       " 'realme C11 2021 (Cool Blue, 32 GB)4.313,250 Ratings\\xa0&\\xa0725 Reviews2 GB RAM | 32 GB ROM | Expandable Upto 256 GB16.51 cm (6.5 inch) HD+ Display8MP Rear Camera | 5MP Front Camera5000 mAh BatteryOcta-core Processor1 Year Warranty for Mobile and 6 Months for Accessories',\n",
       " 'realme C11 2021 (Cool Blue, 32 GB)4.313,250 Ratings\\xa0&\\xa0725 Reviews2 GB RAM | 32 GB ROM | Expandable Upto 256 GB16.51 cm (6.5 inch) HD+ Display8MP Rear Camera | 5MP Front Camera5000 mAh BatteryOcta-core Processor1 Year Warranty for Mobile and 6 Months for Accessories',\n",
       " 'realme C11 2021 (Cool Blue, 32 GB)4.313,250 Ratings\\xa0&\\xa0725 Reviews2 GB RAM | 32 GB ROM | Expandable Upto 256 GB16.51 cm (6.5 inch) HD+ Display8MP Rear Camera | 5MP Front Camera5000 mAh BatteryOcta-core Processor1 Year Warranty for Mobile and 6 Months for Accessories',\n",
       " 'realme C11 2021 (Cool Blue, 32 GB)4.313,250 Ratings\\xa0&\\xa0725 Reviews2 GB RAM | 32 GB ROM | Expandable Upto 256 GB16.51 cm (6.5 inch) HD+ Display8MP Rear Camera | 5MP Front Camera5000 mAh BatteryOcta-core Processor1 Year Warranty for Mobile and 6 Months for Accessories',\n",
       " 'realme C11 2021 (Cool Blue, 32 GB)4.313,250 Ratings\\xa0&\\xa0725 Reviews2 GB RAM | 32 GB ROM | Expandable Upto 256 GB16.51 cm (6.5 inch) HD+ Display8MP Rear Camera | 5MP Front Camera5000 mAh BatteryOcta-core Processor1 Year Warranty for Mobile and 6 Months for Accessories',\n",
       " 'realme 7 Pro (Sun Kissed Leather, 128 GB)4.444,447 Ratings\\xa0&\\xa04,347 Reviews8 GB RAM | 128 GB ROM | Expandable Upto 256 GB16.26 cm (6.4 inch) Full HD+ Display64MP + 8MP + 2MP + 2MP | 32MP Front Camera4500 mAh Lithium-ion BatteryQualcomm Snapdragon 720G ProcessorSuper AMOLED Display65 W SuperDart ChargeBrand Warranty of 1 Year Available for Mobile and 6 Months for Accessories',\n",
       " 'realme 7 Pro (Sun Kissed Leather, 128 GB)4.444,447 Ratings\\xa0&\\xa04,347 Reviews8 GB RAM | 128 GB ROM | Expandable Upto 256 GB16.26 cm (6.4 inch) Full HD+ Display64MP + 8MP + 2MP + 2MP | 32MP Front Camera4500 mAh Lithium-ion BatteryQualcomm Snapdragon 720G ProcessorSuper AMOLED Display65 W SuperDart ChargeBrand Warranty of 1 Year Available for Mobile and 6 Months for Accessories',\n",
       " 'realme 7 Pro (Sun Kissed Leather, 128 GB)4.444,447 Ratings\\xa0&\\xa04,347 Reviews8 GB RAM | 128 GB ROM | Expandable Upto 256 GB16.26 cm (6.4 inch) Full HD+ Display64MP + 8MP + 2MP + 2MP | 32MP Front Camera4500 mAh Lithium-ion BatteryQualcomm Snapdragon 720G ProcessorSuper AMOLED Display65 W SuperDart ChargeBrand Warranty of 1 Year Available for Mobile and 6 Months for Accessories',\n",
       " 'realme 7 Pro (Sun Kissed Leather, 128 GB)4.444,447 Ratings\\xa0&\\xa04,347 Reviews8 GB RAM | 128 GB ROM | Expandable Upto 256 GB16.26 cm (6.4 inch) Full HD+ Display64MP + 8MP + 2MP + 2MP | 32MP Front Camera4500 mAh Lithium-ion BatteryQualcomm Snapdragon 720G ProcessorSuper AMOLED Display65 W SuperDart ChargeBrand Warranty of 1 Year Available for Mobile and 6 Months for Accessories',\n",
       " 'realme 7 Pro (Sun Kissed Leather, 128 GB)4.444,447 Ratings\\xa0&\\xa04,347 Reviews8 GB RAM | 128 GB ROM | Expandable Upto 256 GB16.26 cm (6.4 inch) Full HD+ Display64MP + 8MP + 2MP + 2MP | 32MP Front Camera4500 mAh Lithium-ion BatteryQualcomm Snapdragon 720G ProcessorSuper AMOLED Display65 W SuperDart ChargeBrand Warranty of 1 Year Available for Mobile and 6 Months for Accessories',\n",
       " 'realme 7 Pro (Sun Kissed Leather, 128 GB)4.444,447 Ratings\\xa0&\\xa04,347 Reviews8 GB RAM | 128 GB ROM | Expandable Upto 256 GB16.26 cm (6.4 inch) Full HD+ Display64MP + 8MP + 2MP + 2MP | 32MP Front Camera4500 mAh Lithium-ion BatteryQualcomm Snapdragon 720G ProcessorSuper AMOLED Display65 W SuperDart ChargeBrand Warranty of 1 Year Available for Mobile and 6 Months for Accessories',\n",
       " 'realme 7 Pro (Sun Kissed Leather, 128 GB)4.444,447 Ratings\\xa0&\\xa04,347 Reviews8 GB RAM | 128 GB ROM | Expandable Upto 256 GB16.26 cm (6.4 inch) Full HD+ Display64MP + 8MP + 2MP + 2MP | 32MP Front Camera4500 mAh Lithium-ion BatteryQualcomm Snapdragon 720G ProcessorSuper AMOLED Display65 W SuperDart ChargeBrand Warranty of 1 Year Available for Mobile and 6 Months for Accessories',\n",
       " 'realme 3i (Diamond Blue, 32 GB)4.43,00,465 Ratings\\xa0&\\xa026,586 Reviews3 GB RAM | 32 GB ROM | Expandable Upto 256 GB15.8 cm (6.22 inch) HD+ Display13MP + 2MP | 13MP Front Camera4230 mAh BatteryMediaTek Helio P60 Octa Core 2.0 GHz ProcessorTriple Slots (Dual SIM + Memory Card)Fingerprint Sensor and Face UnlockBrand Warranty of 1 Year Available for Mobile and 6 Months for Accessories',\n",
       " 'realme 3i (Diamond Blue, 32 GB)4.43,00,465 Ratings\\xa0&\\xa026,586 Reviews3 GB RAM | 32 GB ROM | Expandable Upto 256 GB15.8 cm (6.22 inch) HD+ Display13MP + 2MP | 13MP Front Camera4230 mAh BatteryMediaTek Helio P60 Octa Core 2.0 GHz ProcessorTriple Slots (Dual SIM + Memory Card)Fingerprint Sensor and Face UnlockBrand Warranty of 1 Year Available for Mobile and 6 Months for Accessories',\n",
       " 'realme 3i (Diamond Blue, 32 GB)4.43,00,465 Ratings\\xa0&\\xa026,586 Reviews3 GB RAM | 32 GB ROM | Expandable Upto 256 GB15.8 cm (6.22 inch) HD+ Display13MP + 2MP | 13MP Front Camera4230 mAh BatteryMediaTek Helio P60 Octa Core 2.0 GHz ProcessorTriple Slots (Dual SIM + Memory Card)Fingerprint Sensor and Face UnlockBrand Warranty of 1 Year Available for Mobile and 6 Months for Accessories',\n",
       " 'realme 3i (Diamond Blue, 32 GB)4.43,00,465 Ratings\\xa0&\\xa026,586 Reviews3 GB RAM | 32 GB ROM | Expandable Upto 256 GB15.8 cm (6.22 inch) HD+ Display13MP + 2MP | 13MP Front Camera4230 mAh BatteryMediaTek Helio P60 Octa Core 2.0 GHz ProcessorTriple Slots (Dual SIM + Memory Card)Fingerprint Sensor and Face UnlockBrand Warranty of 1 Year Available for Mobile and 6 Months for Accessories',\n",
       " 'realme 3i (Diamond Blue, 32 GB)4.43,00,465 Ratings\\xa0&\\xa026,586 Reviews3 GB RAM | 32 GB ROM | Expandable Upto 256 GB15.8 cm (6.22 inch) HD+ Display13MP + 2MP | 13MP Front Camera4230 mAh BatteryMediaTek Helio P60 Octa Core 2.0 GHz ProcessorTriple Slots (Dual SIM + Memory Card)Fingerprint Sensor and Face UnlockBrand Warranty of 1 Year Available for Mobile and 6 Months for Accessories',\n",
       " 'realme 3i (Diamond Blue, 32 GB)4.43,00,465 Ratings\\xa0&\\xa026,586 Reviews3 GB RAM | 32 GB ROM | Expandable Upto 256 GB15.8 cm (6.22 inch) HD+ Display13MP + 2MP | 13MP Front Camera4230 mAh BatteryMediaTek Helio P60 Octa Core 2.0 GHz ProcessorTriple Slots (Dual SIM + Memory Card)Fingerprint Sensor and Face UnlockBrand Warranty of 1 Year Available for Mobile and 6 Months for Accessories',\n",
       " 'realme 3i (Diamond Blue, 32 GB)4.43,00,465 Ratings\\xa0&\\xa026,586 Reviews3 GB RAM | 32 GB ROM | Expandable Upto 256 GB15.8 cm (6.22 inch) HD+ Display13MP + 2MP | 13MP Front Camera4230 mAh BatteryMediaTek Helio P60 Octa Core 2.0 GHz ProcessorTriple Slots (Dual SIM + Memory Card)Fingerprint Sensor and Face UnlockBrand Warranty of 1 Year Available for Mobile and 6 Months for Accessories',\n",
       " 'realme C2 (Diamond Black, 32 GB)4.49,07,822 Ratings\\xa0&\\xa072,096 Reviews2 GB RAM | 32 GB ROM | Expandable Upto 256 GB15.49 cm (6.1 inch) HD+ Display13MP + 2MP | 5MP Front Camera4000 mAh BatteryMediaTek P22 Octa Core 2.0 GHz ProcessorDual Nano SIM slots and Memory Card SlotFace UnlockBrand Warranty of 1 Year Available for Mobile and 6 Months for Accessories']"
      ]
     },
     "execution_count": 78,
     "metadata": {},
     "output_type": "execute_result"
    }
   ],
   "source": [
    "t"
   ]
  },
  {
   "cell_type": "markdown",
   "id": "e31b7abd",
   "metadata": {},
   "source": [
    "# "
   ]
  },
  {
   "cell_type": "code",
   "execution_count": 87,
   "id": "83f81e15",
   "metadata": {},
   "outputs": [
    {
     "name": "stdout",
     "output_type": "stream",
     "text": [
      "<div class=\"_3LWZlK\">4.4<img class=\"_1wB99o\" src=\"data:image/svg+xml;base64,PHN2ZyB4bWxucz0iaHR0cDovL3d3dy53My5vcmcvMjAwMC9zdmciIHdpZHRoPSIxMyIgaGVpZ2h0PSIxMiI+PHBhdGggZmlsbD0iI0ZGRiIgZD0iTTYuNSA5LjQzOWwtMy42NzQgMi4yMy45NC00LjI2LTMuMjEtMi44ODMgNC4yNTQtLjQwNEw2LjUuMTEybDEuNjkgNC4wMSA0LjI1NC40MDQtMy4yMSAyLjg4Mi45NCA0LjI2eiIvPjwvc3ZnPg==\"/></div>\n",
      "<div class=\"_3LWZlK\">4.4<img class=\"_1wB99o\" src=\"data:image/svg+xml;base64,PHN2ZyB4bWxucz0iaHR0cDovL3d3dy53My5vcmcvMjAwMC9zdmciIHdpZHRoPSIxMyIgaGVpZ2h0PSIxMiI+PHBhdGggZmlsbD0iI0ZGRiIgZD0iTTYuNSA5LjQzOWwtMy42NzQgMi4yMy45NC00LjI2LTMuMjEtMi44ODMgNC4yNTQtLjQwNEw2LjUuMTEybDEuNjkgNC4wMSA0LjI1NC40MDQtMy4yMSAyLjg4Mi45NCA0LjI2eiIvPjwvc3ZnPg==\"/></div>\n",
      "<div class=\"_3LWZlK\">4.3<img class=\"_1wB99o\" src=\"data:image/svg+xml;base64,PHN2ZyB4bWxucz0iaHR0cDovL3d3dy53My5vcmcvMjAwMC9zdmciIHdpZHRoPSIxMyIgaGVpZ2h0PSIxMiI+PHBhdGggZmlsbD0iI0ZGRiIgZD0iTTYuNSA5LjQzOWwtMy42NzQgMi4yMy45NC00LjI2LTMuMjEtMi44ODMgNC4yNTQtLjQwNEw2LjUuMTEybDEuNjkgNC4wMSA0LjI1NC40MDQtMy4yMSAyLjg4Mi45NCA0LjI2eiIvPjwvc3ZnPg==\"/></div>\n",
      "<div class=\"_3LWZlK _32lA32\">2.8<img class=\"_1wB99o\" src=\"data:image/svg+xml;base64,PHN2ZyB4bWxucz0iaHR0cDovL3d3dy53My5vcmcvMjAwMC9zdmciIHdpZHRoPSIxMyIgaGVpZ2h0PSIxMiI+PHBhdGggZmlsbD0iI0ZGRiIgZD0iTTYuNSA5LjQzOWwtMy42NzQgMi4yMy45NC00LjI2LTMuMjEtMi44ODMgNC4yNTQtLjQwNEw2LjUuMTEybDEuNjkgNC4wMSA0LjI1NC40MDQtMy4yMSAyLjg4Mi45NCA0LjI2eiIvPjwvc3ZnPg==\"/></div>\n",
      "<div class=\"_3LWZlK\">4.3<img class=\"_1wB99o\" src=\"data:image/svg+xml;base64,PHN2ZyB4bWxucz0iaHR0cDovL3d3dy53My5vcmcvMjAwMC9zdmciIHdpZHRoPSIxMyIgaGVpZ2h0PSIxMiI+PHBhdGggZmlsbD0iI0ZGRiIgZD0iTTYuNSA5LjQzOWwtMy42NzQgMi4yMy45NC00LjI2LTMuMjEtMi44ODMgNC4yNTQtLjQwNEw2LjUuMTEybDEuNjkgNC4wMSA0LjI1NC40MDQtMy4yMSAyLjg4Mi45NCA0LjI2eiIvPjwvc3ZnPg==\"/></div>\n",
      "<div class=\"_3LWZlK\">4.3<img class=\"_1wB99o\" src=\"data:image/svg+xml;base64,PHN2ZyB4bWxucz0iaHR0cDovL3d3dy53My5vcmcvMjAwMC9zdmciIHdpZHRoPSIxMyIgaGVpZ2h0PSIxMiI+PHBhdGggZmlsbD0iI0ZGRiIgZD0iTTYuNSA5LjQzOWwtMy42NzQgMi4yMy45NC00LjI2LTMuMjEtMi44ODMgNC4yNTQtLjQwNEw2LjUuMTEybDEuNjkgNC4wMSA0LjI1NC40MDQtMy4yMSAyLjg4Mi45NCA0LjI2eiIvPjwvc3ZnPg==\"/></div>\n",
      "<div class=\"_3LWZlK\">4.3<img class=\"_1wB99o\" src=\"data:image/svg+xml;base64,PHN2ZyB4bWxucz0iaHR0cDovL3d3dy53My5vcmcvMjAwMC9zdmciIHdpZHRoPSIxMyIgaGVpZ2h0PSIxMiI+PHBhdGggZmlsbD0iI0ZGRiIgZD0iTTYuNSA5LjQzOWwtMy42NzQgMi4yMy45NC00LjI2LTMuMjEtMi44ODMgNC4yNTQtLjQwNEw2LjUuMTEybDEuNjkgNC4wMSA0LjI1NC40MDQtMy4yMSAyLjg4Mi45NCA0LjI2eiIvPjwvc3ZnPg==\"/></div>\n",
      "<div class=\"_3LWZlK\">3<img class=\"_1wB99o\" src=\"data:image/svg+xml;base64,PHN2ZyB4bWxucz0iaHR0cDovL3d3dy53My5vcmcvMjAwMC9zdmciIHdpZHRoPSIxMyIgaGVpZ2h0PSIxMiI+PHBhdGggZmlsbD0iI0ZGRiIgZD0iTTYuNSA5LjQzOWwtMy42NzQgMi4yMy45NC00LjI2LTMuMjEtMi44ODMgNC4yNTQtLjQwNEw2LjUuMTEybDEuNjkgNC4wMSA0LjI1NC40MDQtMy4yMSAyLjg4Mi45NCA0LjI2eiIvPjwvc3ZnPg==\"/></div>\n",
      "<div class=\"_3LWZlK\">4.3<img class=\"_1wB99o\" src=\"data:image/svg+xml;base64,PHN2ZyB4bWxucz0iaHR0cDovL3d3dy53My5vcmcvMjAwMC9zdmciIHdpZHRoPSIxMyIgaGVpZ2h0PSIxMiI+PHBhdGggZmlsbD0iI0ZGRiIgZD0iTTYuNSA5LjQzOWwtMy42NzQgMi4yMy45NC00LjI2LTMuMjEtMi44ODMgNC4yNTQtLjQwNEw2LjUuMTEybDEuNjkgNC4wMSA0LjI1NC40MDQtMy4yMSAyLjg4Mi45NCA0LjI2eiIvPjwvc3ZnPg==\"/></div>\n",
      "<div class=\"_3LWZlK\">4.3<img class=\"_1wB99o\" src=\"data:image/svg+xml;base64,PHN2ZyB4bWxucz0iaHR0cDovL3d3dy53My5vcmcvMjAwMC9zdmciIHdpZHRoPSIxMyIgaGVpZ2h0PSIxMiI+PHBhdGggZmlsbD0iI0ZGRiIgZD0iTTYuNSA5LjQzOWwtMy42NzQgMi4yMy45NC00LjI2LTMuMjEtMi44ODMgNC4yNTQtLjQwNEw2LjUuMTEybDEuNjkgNC4wMSA0LjI1NC40MDQtMy4yMSAyLjg4Mi45NCA0LjI2eiIvPjwvc3ZnPg==\"/></div>\n",
      "<div class=\"_3LWZlK\">4.3<img class=\"_1wB99o\" src=\"data:image/svg+xml;base64,PHN2ZyB4bWxucz0iaHR0cDovL3d3dy53My5vcmcvMjAwMC9zdmciIHdpZHRoPSIxMyIgaGVpZ2h0PSIxMiI+PHBhdGggZmlsbD0iI0ZGRiIgZD0iTTYuNSA5LjQzOWwtMy42NzQgMi4yMy45NC00LjI2LTMuMjEtMi44ODMgNC4yNTQtLjQwNEw2LjUuMTEybDEuNjkgNC4wMSA0LjI1NC40MDQtMy4yMSAyLjg4Mi45NCA0LjI2eiIvPjwvc3ZnPg==\"/></div>\n",
      "<div class=\"_3LWZlK\">3.1<img class=\"_1wB99o\" src=\"data:image/svg+xml;base64,PHN2ZyB4bWxucz0iaHR0cDovL3d3dy53My5vcmcvMjAwMC9zdmciIHdpZHRoPSIxMyIgaGVpZ2h0PSIxMiI+PHBhdGggZmlsbD0iI0ZGRiIgZD0iTTYuNSA5LjQzOWwtMy42NzQgMi4yMy45NC00LjI2LTMuMjEtMi44ODMgNC4yNTQtLjQwNEw2LjUuMTEybDEuNjkgNC4wMSA0LjI1NC40MDQtMy4yMSAyLjg4Mi45NCA0LjI2eiIvPjwvc3ZnPg==\"/></div>\n",
      "<div class=\"_3LWZlK\">4.3<img class=\"_1wB99o\" src=\"data:image/svg+xml;base64,PHN2ZyB4bWxucz0iaHR0cDovL3d3dy53My5vcmcvMjAwMC9zdmciIHdpZHRoPSIxMyIgaGVpZ2h0PSIxMiI+PHBhdGggZmlsbD0iI0ZGRiIgZD0iTTYuNSA5LjQzOWwtMy42NzQgMi4yMy45NC00LjI2LTMuMjEtMi44ODMgNC4yNTQtLjQwNEw2LjUuMTEybDEuNjkgNC4wMSA0LjI1NC40MDQtMy4yMSAyLjg4Mi45NCA0LjI2eiIvPjwvc3ZnPg==\"/></div>\n",
      "<div class=\"_3LWZlK\">4.3<img class=\"_1wB99o\" src=\"data:image/svg+xml;base64,PHN2ZyB4bWxucz0iaHR0cDovL3d3dy53My5vcmcvMjAwMC9zdmciIHdpZHRoPSIxMyIgaGVpZ2h0PSIxMiI+PHBhdGggZmlsbD0iI0ZGRiIgZD0iTTYuNSA5LjQzOWwtMy42NzQgMi4yMy45NC00LjI2LTMuMjEtMi44ODMgNC4yNTQtLjQwNEw2LjUuMTEybDEuNjkgNC4wMSA0LjI1NC40MDQtMy4yMSAyLjg4Mi45NCA0LjI2eiIvPjwvc3ZnPg==\"/></div>\n",
      "<div class=\"_3LWZlK\">4.3<img class=\"_1wB99o\" src=\"data:image/svg+xml;base64,PHN2ZyB4bWxucz0iaHR0cDovL3d3dy53My5vcmcvMjAwMC9zdmciIHdpZHRoPSIxMyIgaGVpZ2h0PSIxMiI+PHBhdGggZmlsbD0iI0ZGRiIgZD0iTTYuNSA5LjQzOWwtMy42NzQgMi4yMy45NC00LjI2LTMuMjEtMi44ODMgNC4yNTQtLjQwNEw2LjUuMTEybDEuNjkgNC4wMSA0LjI1NC40MDQtMy4yMSAyLjg4Mi45NCA0LjI2eiIvPjwvc3ZnPg==\"/></div>\n"
     ]
    },
    {
     "ename": "IndexError",
     "evalue": "list index out of range",
     "output_type": "error",
     "traceback": [
      "\u001b[1;31m---------------------------------------------------------------------------\u001b[0m",
      "\u001b[1;31mIndexError\u001b[0m                                Traceback (most recent call last)",
      "\u001b[1;32m<ipython-input-87-d7350536846b>\u001b[0m in \u001b[0;36m<module>\u001b[1;34m\u001b[0m\n\u001b[0;32m     10\u001b[0m     \u001b[0mprod\u001b[0m\u001b[1;33m=\u001b[0m\u001b[0msoup\u001b[0m\u001b[1;33m.\u001b[0m\u001b[0mselect\u001b[0m\u001b[1;33m(\u001b[0m\u001b[1;34m'.col.col-7-12'\u001b[0m\u001b[1;33m)\u001b[0m\u001b[1;33m\u001b[0m\u001b[1;33m\u001b[0m\u001b[0m\n\u001b[0;32m     11\u001b[0m     \u001b[1;32mfor\u001b[0m \u001b[0mj\u001b[0m \u001b[1;32min\u001b[0m \u001b[0mprod\u001b[0m\u001b[1;33m:\u001b[0m\u001b[1;33m\u001b[0m\u001b[1;33m\u001b[0m\u001b[0m\n\u001b[1;32m---> 12\u001b[1;33m         \u001b[0mprint\u001b[0m\u001b[1;33m(\u001b[0m\u001b[0mj\u001b[0m\u001b[1;33m.\u001b[0m\u001b[0mselect\u001b[0m\u001b[1;33m(\u001b[0m\u001b[1;34m'._3LWZlK'\u001b[0m\u001b[1;33m)\u001b[0m\u001b[1;33m[\u001b[0m\u001b[1;36m0\u001b[0m\u001b[1;33m]\u001b[0m\u001b[1;33m)\u001b[0m\u001b[1;33m\u001b[0m\u001b[1;33m\u001b[0m\u001b[0m\n\u001b[0m\u001b[0;32m     13\u001b[0m         \u001b[0mc\u001b[0m\u001b[1;33m+=\u001b[0m\u001b[1;36m1\u001b[0m\u001b[1;33m\u001b[0m\u001b[1;33m\u001b[0m\u001b[0m\n\u001b[0;32m     14\u001b[0m         \u001b[0mresult\u001b[0m\u001b[1;33m=\u001b[0m\u001b[0mj\u001b[0m\u001b[1;33m.\u001b[0m\u001b[0mselect\u001b[0m\u001b[1;33m(\u001b[0m\u001b[1;34m'._3LWZlK'\u001b[0m\u001b[1;33m)\u001b[0m\u001b[1;33m[\u001b[0m\u001b[1;36m0\u001b[0m\u001b[1;33m]\u001b[0m\u001b[1;33m\u001b[0m\u001b[1;33m\u001b[0m\u001b[0m\n",
      "\u001b[1;31mIndexError\u001b[0m: list index out of range"
     ]
    }
   ],
   "source": [
    "import requests,lxml,bs4\n",
    "base_url='https://www.flipkart.com/search?q=phones&otracker=search&otracker1=search&marketplace=FLIPKART&as-show=on&as=off&page={}'\n",
    "t=[]\n",
    "n=2\n",
    "c=0\n",
    "for i in range (n):\n",
    "    url=base_url.format(i+1)\n",
    "    res=requests.get(url)\n",
    "    soup=bs4.BeautifulSoup(res.text,'lxml')\n",
    "    prod=soup.select('.col.col-7-12')\n",
    "    for j in prod:\n",
    "        print(j.select('._3LWZlK')[0])\n",
    "        c+=1\n",
    "        result=j.select('._3LWZlK')[0]\n",
    "        name=j.select('._4rR01T')[0]\n",
    "        if result.text=='4.4':\n",
    "            t.append(name.text)\n",
    "#prod\n",
    "#for i in range (10):\n",
    " #   res= requests.get(\"https://www.flipkart.com/search?q=phones&otracker=search&otracker1=search&marketplace=FLIPKART&as-show=on&as=off&page={i}\")\n",
    "  #  print (res.text)"
   ]
  },
  {
   "cell_type": "code",
   "execution_count": 88,
   "id": "53d852f0",
   "metadata": {},
   "outputs": [
    {
     "data": {
      "text/plain": [
       "15"
      ]
     },
     "execution_count": 88,
     "metadata": {},
     "output_type": "execute_result"
    }
   ],
   "source": [
    "c"
   ]
  },
  {
   "cell_type": "code",
   "execution_count": 81,
   "id": "2108550b",
   "metadata": {},
   "outputs": [
    {
     "data": {
      "text/plain": [
       "['realme C20 (Cool Blue, 32 GB)',\n",
       " 'realme C20 (Cool Grey, 32 GB)',\n",
       " 'REDMI 9 Prime (Space Blue, 64 GB)',\n",
       " 'REDMI 9 Prime (Mint Green, 64 GB)',\n",
       " 'realme C21 (Cross Blue, 64 GB)',\n",
       " 'realme C21 (Cross Black, 64 GB)',\n",
       " 'realme C21 (Cross Blue, 32 GB)',\n",
       " 'realme C21 (Cross Black, 32 GB)',\n",
       " 'Infinix Smart 5A (Quetzal Cyan, 32 GB)',\n",
       " 'Infinix Smart 5A (Midnight Black, 32 GB)',\n",
       " 'Infinix Smart 5A (Ocean Wave, 32 GB)',\n",
       " 'POCO X3 Pro (Graphite Black, 128 GB)',\n",
       " 'POCO X3 Pro (Steel Blue, 128 GB)',\n",
       " 'OPPO A53 (Moonlight Black, 128 GB)',\n",
       " 'OPPO A53 (Mint Cream, 128 GB)',\n",
       " 'POCO X3 Pro (Graphite Black, 128 GB)',\n",
       " 'OPPO A12 (Black, 32 GB)',\n",
       " 'OPPO A12 (Blue, 32 GB)',\n",
       " 'OPPO A12 (Deep Blue, 64 GB)',\n",
       " 'OPPO A12 (Flowing Silver, 64 GB)',\n",
       " 'POCO X3 Pro (Steel Blue, 128 GB)',\n",
       " 'vivo Y21 (Diamond Glow, 64 GB)',\n",
       " 'vivo Y21 (Midnight Blue, 64 GB)',\n",
       " 'realme C11 2021 (Cool Grey, 64 GB)',\n",
       " 'realme C11 2021 (Cool Blue, 64 GB)',\n",
       " 'SAMSUNG Galaxy F22 (Denim Black, 128 GB)']"
      ]
     },
     "execution_count": 81,
     "metadata": {},
     "output_type": "execute_result"
    }
   ],
   "source": [
    "t"
   ]
  },
  {
   "cell_type": "code",
   "execution_count": 29,
   "id": "6a07f576",
   "metadata": {},
   "outputs": [
    {
     "data": {
      "text/plain": [
       "<div class=\"col col-7-12\"><div class=\"_4rR01T\">Infinix Hot 10 Play (Aegean Blue, 64 GB)</div><div class=\"gUuXy-\"><span class=\"_1lRcqv\" id=\"productRating_LSTMOBGFG7URKYYCXUSZ1U485_MOBGFG7URKYYCXUS_\"><div class=\"_3LWZlK\">4.3<img class=\"_1wB99o\" src=\"data:image/svg+xml;base64,PHN2ZyB4bWxucz0iaHR0cDovL3d3dy53My5vcmcvMjAwMC9zdmciIHdpZHRoPSIxMyIgaGVpZ2h0PSIxMiI+PHBhdGggZmlsbD0iI0ZGRiIgZD0iTTYuNSA5LjQzOWwtMy42NzQgMi4yMy45NC00LjI2LTMuMjEtMi44ODMgNC4yNTQtLjQwNEw2LjUuMTEybDEuNjkgNC4wMSA0LjI1NC40MDQtMy4yMSAyLjg4Mi45NCA0LjI2eiIvPjwvc3ZnPg==\"/></div></span><span class=\"_2_R_DZ\"><span><span>65,546 Ratings </span><span class=\"_13vcmD\">&amp;</span><span> 5,172 Reviews</span></span></span></div><div class=\"fMghEO\"><ul class=\"_1xgFaf\"><li class=\"rgWa7D\">4 GB RAM | 64 GB ROM | Expandable Upto 256 GB</li><li class=\"rgWa7D\">17.32 cm (6.82 inch) HD+ Display</li><li class=\"rgWa7D\">13MP + Depth Sensor | 8MP Front Camera</li><li class=\"rgWa7D\">6000 mAh Li-ion Polymer Battery</li><li class=\"rgWa7D\">MediaTek Helio G35 Processor</li><li class=\"rgWa7D\">1 Year on Handset and 6 Months on Accessories</li></ul></div></div>"
      ]
     },
     "execution_count": 29,
     "metadata": {},
     "output_type": "execute_result"
    }
   ],
   "source": [
    "prod[0]"
   ]
  },
  {
   "cell_type": "code",
   "execution_count": null,
   "id": "cb8d4e19",
   "metadata": {},
   "outputs": [],
   "source": []
  }
 ],
 "metadata": {
  "kernelspec": {
   "display_name": "Python 3",
   "language": "python",
   "name": "python3"
  },
  "language_info": {
   "codemirror_mode": {
    "name": "ipython",
    "version": 3
   },
   "file_extension": ".py",
   "mimetype": "text/x-python",
   "name": "python",
   "nbconvert_exporter": "python",
   "pygments_lexer": "ipython3",
   "version": "3.8.8"
  }
 },
 "nbformat": 4,
 "nbformat_minor": 5
}
